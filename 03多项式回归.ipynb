{
 "cells": [
  {
   "cell_type": "code",
   "execution_count": null,
   "metadata": {},
   "outputs": [],
   "source": [
    "\"\"\"多项式回归代码实现\"\"\" \n",
    "import torch \n",
    "from torch.autograd import Variable \n",
    "import torch.nn as nn \n",
    "import torch.optim as optim \n",
    "import matplotlib.pyplot as plt \n",
    "import numpy as np "
   ]
  },
  {
   "cell_type": "code",
   "execution_count": 1,
   "metadata": {},
   "outputs": [],
   "source": [
    "def make_features(x):\n",
    "    \"\"\"Builds features i.e. a matrix with columns [x, x^2, x^3].\"\"\" \n",
    "    x = x.unsqueeze(1) \n",
    "    return torch.cat([x ** i for i in range(1, 4)], 1) \n",
    "\n",
    "\n",
    "def f(x):\n",
    "    \"\"\"Approximated function.\"\"\" \n",
    "    return x.mm(W_target) + b_target[0] \n",
    "\n",
    "\n",
    "def get_batch(batch_size=32):\n",
    "    \"\"\"Builds a batch i.e. (x, f(x)) pair.\"\"\" \n",
    "    random = torch.randn(batch_size) \n",
    "    random = np.sort(random) \n",
    "    random = torch.Tensor(random) \n",
    "    x = make_features(random) \n",
    "    y = f(x) \n",
    "    if torch.cuda.is_available(): \n",
    "        return Variable(x).cuda(), Variable(y).cuda() \n",
    "    else: \n",
    "        return Variable(x), Variable(y) "
   ]
  },
  {
   "cell_type": "code",
   "execution_count": 2,
   "metadata": {},
   "outputs": [],
   "source": [
    "class poly_model(nn.Module): \n",
    "    def __init__(self):\n",
    "        super(poly_model, self).__init__() \n",
    "        self.poly = nn.Linear(3, 1) \n",
    "        \n",
    "    def forward(self, x): \n",
    "        out = self.poly(x) \n",
    "        return out \n"
   ]
  },
  {
   "cell_type": "code",
   "execution_count": 4,
   "metadata": {},
   "outputs": [],
   "source": [
    "if __name__ == '__main__':\n",
    "    W_target = torch.FloatTensor([0.5, 3, 2.4]).unsqueeze(1)\n",
    "    b_target = torch.FloatTensor([0.9]) \n",
    "    if torch.cuda.is_available(): \n",
    "        model = poly_model().cuda() \n",
    "    else: \n",
    "        model = poly_model()\n",
    "        \n",
    "    criterion = nn.MSELoss() \n",
    "    optimizer = optim.SGD(model.parameters(), lr=1e-3)\n",
    "    \n",
    "    epoch = 0 \n",
    "    while True: \n",
    "        # Get data \n",
    "        batch_x, batch_y = get_batch() \n",
    "        # Forward pass \n",
    "        output = model(batch_x) \n",
    "        loss = criterion(output, batch_y) \n",
    "        print_loss = loss.item() \n",
    "        # Reset gradients \n",
    "        optimizer.zero_grad() \n",
    "        # Backward pass \n",
    "        loss.backward() \n",
    "        # update parameters \n",
    "        optimizer.step() \n",
    "        epoch += 1 \n",
    "        if print_loss < 1e-3: \n",
    "            break"
   ]
  },
  {
   "cell_type": "code",
   "execution_count": 5,
   "metadata": {},
   "outputs": [
    {
     "name": "stdout",
     "output_type": "stream",
     "text": [
      "Loss: 0.000996  after 1803 batches\n",
      "==> Learned function: y = 0.93 + 0.45*x + 2.99*x^2 + 2.41*x^3\n",
      "==> Actual function: y = 0.90 + 0.50*x + 3.00*x^2 + 2.40*x^3\n"
     ]
    },
    {
     "data": {
      "image/png": "[encoded data removed]",
      "text/plain": [
       "<Figure size 432x288 with 1 Axes>"
      ]
     },
     "metadata": {},
     "output_type": "display_data"
    }
   ],
   "source": [
    "print(\"Loss: {:.6f}  after {} batches\".format(loss.item(), epoch)) \n",
    "print( \"==> Learned function: y = {:.2f} + {:.2f}*x + {:.2f}*x^2 + {:.2f}*x^3\".format(model.poly.bias[0], model.poly.weight[0][0], model.poly.weight[0][1], model.poly.weight[0][2]))\n",
    "print(\"==> Actual function: y = {:.2f} + {:.2f}*x + {:.2f}*x^2 + {:.2f}*x^3\".format(b_target[0], W_target[0][0], W_target[1][0], W_target[2][0])) \n",
    "predict = model(batch_x) \n",
    "batch_x = batch_x.cpu()\n",
    "batch_y = batch_y.cpu()\n",
    "x = batch_x.numpy()[:, 0] \n",
    "plt.plot(x, batch_y.numpy(), 'ro') \n",
    "predict = predict.cpu() \n",
    "predict = predict.data.numpy() \n",
    "plt.plot(x, predict, 'b') \n",
    "plt.show()\n"
   ]
  },
  {
   "cell_type": "code",
   "execution_count": null,
   "metadata": {},
   "outputs": [],
   "source": []
  }
 ],
 "metadata": {
  "kernelspec": {
   "display_name": "Python 3",
   "language": "python",
   "name": "python3"
  },
  "language_info": {
   "codemirror_mode": {
    "name": "ipython",
    "version": 3
   },
   "file_extension": ".py",
   "mimetype": "text/x-python",
   "name": "python",
   "nbconvert_exporter": "python",
   "pygments_lexer": "ipython3",
   "version": "3.6.7"
  }
 },
 "nbformat": 4,
 "nbformat_minor": 2
}
