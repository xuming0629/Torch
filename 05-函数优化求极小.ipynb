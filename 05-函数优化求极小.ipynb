{
 "cells": [
  {
   "cell_type": "markdown",
   "metadata": {},
   "source": [
    "###  优化求极小的问题"
   ]
  },
  {
   "cell_type": "code",
   "execution_count": 1,
   "metadata": {},
   "outputs": [],
   "source": [
    "# 模块导入\n",
    "\n",
    "import time\n",
    "\n",
    "import numpy as np\n",
    "%matplotlib inline\n",
    "import matplotlib.pyplot as plt\n",
    "\n",
    "\n",
    "import torch\n",
    "import torch.optim as optim"
   ]
  },
  {
   "cell_type": "markdown",
   "metadata": {},
   "source": [
    "## Find the Minimizer of Rosenbrock Function\n",
    " $$\n",
    "     F(x_1,x_2):= 100 (x_2-x_1^2)^2 + (x_1-1)^2\n",
    " $$\n",
    " \n",
    " <img\n",
    " src=\"https://upload.wikimedia.org/wikipedia/commons/thumb/3/32/Rosenbrock_function.svg/1080px-Rosenbrock_function.svg.png\"\n",
    " width=\"500\" height=\"500\"\n",
    " align=\"center\"\n",
    " />\n",
    " "
   ]
  },
  {
   "cell_type": "code",
   "execution_count": 2,
   "metadata": {},
   "outputs": [],
   "source": [
    "def rosenbrock(x):\n",
    "    y = 100 * (x[1]-x[0]*x[0])**2 + (x[0]-1)**2\n",
    "    return y"
   ]
  },
  {
   "cell_type": "code",
   "execution_count": 3,
   "metadata": {},
   "outputs": [
    {
     "name": "stdout",
     "output_type": "stream",
     "text": [
      "y=  0.0\n",
      "dy/dx=  tensor([1., 1.])\n"
     ]
    }
   ],
   "source": [
    "x = torch.tensor([1.0,1.0],requires_grad=True)\n",
    "y = rosenbrock(x)\n",
    "y.backward()\n",
    "\n",
    "print('y= ', y.item())\n",
    "print('dy/dx= ',x.data)"
   ]
  },
  {
   "cell_type": "code",
   "execution_count": 4,
   "metadata": {},
   "outputs": [
    {
     "name": "stdout",
     "output_type": "stream",
     "text": [
      "tensor([0.2140, 0.8427], requires_grad=True)\n"
     ]
    }
   ],
   "source": [
    "x = torch.rand(2,requires_grad=True)\n",
    "print(x)\n",
    "\n",
    "optimizer = torch.optim.SGD([x],lr=0.001,momentum=0.9,nesterov=True)"
   ]
  },
  {
   "cell_type": "code",
   "execution_count": 5,
   "metadata": {},
   "outputs": [
    {
     "name": "stdout",
     "output_type": "stream",
     "text": [
      "1, 6.41e+01\n",
      "101, 1.34e-01\n",
      "201, 3.41e-02\n",
      "301, 1.17e-02\n",
      "401, 4.46e-03\n"
     ]
    }
   ],
   "source": [
    "records = []\n",
    "\n",
    "for i in range(500):\n",
    "    optimizer.zero_grad()\n",
    "    y = rosenbrock(x)\n",
    "    y.backward()\n",
    "    optimizer.step()\n",
    "    \n",
    "    if i%100 == 0:\n",
    "        print('%d, %.2e' %(i+1, y.item()))\n",
    "    records.append(y.item())  "
   ]
  },
  {
   "cell_type": "code",
   "execution_count": 6,
   "metadata": {},
   "outputs": [
    {
     "data": {
      "image/png": "[encoded data removed]",
      "text/plain": [
       "<Figure size 432x288 with 1 Axes>"
      ]
     },
     "metadata": {},
     "output_type": "display_data"
    }
   ],
   "source": [
    "plt.semilogy(records,'-');"
   ]
  },
  {
   "cell_type": "code",
   "execution_count": null,
   "metadata": {},
   "outputs": [],
   "source": []
  }
 ],
 "metadata": {
  "kernelspec": {
   "display_name": "Python 3",
   "language": "python",
   "name": "python3"
  },
  "language_info": {
   "codemirror_mode": {
    "name": "ipython",
    "version": 3
   },
   "file_extension": ".py",
   "mimetype": "text/x-python",
   "name": "python",
   "nbconvert_exporter": "python",
   "pygments_lexer": "ipython3",
   "version": "3.6.7"
  }
 },
 "nbformat": 4,
 "nbformat_minor": 2
}
